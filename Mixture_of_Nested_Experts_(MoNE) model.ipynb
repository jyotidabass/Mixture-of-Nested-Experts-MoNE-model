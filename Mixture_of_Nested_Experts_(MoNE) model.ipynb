{
  "nbformat": 4,
  "nbformat_minor": 0,
  "metadata": {
    "colab": {
      "provenance": [],
      "authorship_tag": "ABX9TyOBF2qyg1xzK47U3LIrqcAm",
      "include_colab_link": true
    },
    "kernelspec": {
      "name": "python3",
      "display_name": "Python 3"
    },
    "language_info": {
      "name": "python"
    }
  },
  "cells": [
    {
      "cell_type": "markdown",
      "metadata": {
        "id": "view-in-github",
        "colab_type": "text"
      },
      "source": [
        "<a href=\"https://colab.research.google.com/github/jyotidabass/Mixture-of-Nested-Experts-MoNE-model/blob/main/Mixture_of_Nested_Experts_(MoNE)%C2%A0model.ipynb\" target=\"_parent\"><img src=\"https://colab.research.google.com/assets/colab-badge.svg\" alt=\"Open In Colab\"/></a>"
      ]
    },
    {
      "cell_type": "code",
      "source": [
        "import numpy as np\n",
        "import torch\n",
        "import torch.nn as nn\n",
        "import torch.optim as optim\n",
        "\n",
        "# Define the MoNE model\n",
        "class MoNE(nn.Module):\n",
        "    def __init__(self, num_experts, input_dim, output_dim):\n",
        "        super(MoNE, self).__init__()\n",
        "        self.num_experts = num_experts\n",
        "        self.input_dim = input_dim\n",
        "        self.output_dim = output_dim\n",
        "\n",
        "        # Define the experts\n",
        "        self.experts = nn.ModuleList([nn.Linear(input_dim, output_dim) for _ in range(num_experts)])\n",
        "\n",
        "        # Define the router\n",
        "        self.router = nn.Linear(input_dim, num_experts)\n",
        "\n",
        "    def forward(self, x):\n",
        "        # Compute the router output\n",
        "        router_output = torch.softmax(self.router(x), dim=1)\n",
        "\n",
        "        # Compute the expert outputs\n",
        "        expert_outputs = []\n",
        "        for i in range(self.num_experts):\n",
        "            expert_output = self.experts[i](x)\n",
        "            expert_outputs.append(expert_output)\n",
        "\n",
        "        # Compute the final output\n",
        "        final_output = 0\n",
        "        for i in range(self.num_experts):\n",
        "            # Reshape router_output[:, i] to (100, 1) for broadcasting\n",
        "            final_output += router_output[:, i].unsqueeze(1) * expert_outputs[i]\n",
        "            # unsqueeze(1) adds a dimension of size 1 at dimension 1,\n",
        "            # effectively changing the shape from (100,) to (100, 1).\n",
        "            # This allows for proper broadcasting during the multiplication.\n",
        "\n",
        "        return final_output\n",
        "\n",
        "# Set the hyperparameters\n",
        "num_experts = 3\n",
        "input_dim = 784\n",
        "output_dim = 10\n",
        "\n",
        "# Initialize the MoNE model\n",
        "model = MoNE(num_experts, input_dim, output_dim)\n",
        "\n",
        "# Define the loss function and optimizer\n",
        "criterion = nn.CrossEntropyLoss()\n",
        "optimizer = optim.Adam(model.parameters(), lr=0.001)\n",
        "\n",
        "# Train the model\n",
        "for epoch in range(10):\n",
        "    optimizer.zero_grad()\n",
        "    inputs = torch.randn(100, input_dim)\n",
        "    labels = torch.randint(0, output_dim, (100,))\n",
        "    outputs = model(inputs)\n",
        "    loss = criterion(outputs, labels)\n",
        "    loss.backward()\n",
        "    optimizer.step()\n",
        "    print(f'Epoch {epoch+1}, Loss: {loss.item()}')"
      ],
      "metadata": {
        "colab": {
          "base_uri": "https://localhost:8080/"
        },
        "id": "Z0dWE_pegTfb",
        "outputId": "aca8b48c-c012-45f7-ca9e-05b8bdf4bb95"
      },
      "execution_count": 2,
      "outputs": [
        {
          "output_type": "stream",
          "name": "stdout",
          "text": [
            "Epoch 1, Loss: 2.398869514465332\n",
            "Epoch 2, Loss: 2.396008014678955\n",
            "Epoch 3, Loss: 2.3138465881347656\n",
            "Epoch 4, Loss: 2.440911054611206\n",
            "Epoch 5, Loss: 2.3770956993103027\n",
            "Epoch 6, Loss: 2.4285318851470947\n",
            "Epoch 7, Loss: 2.380089521408081\n",
            "Epoch 8, Loss: 2.371851921081543\n",
            "Epoch 9, Loss: 2.3508713245391846\n",
            "Epoch 10, Loss: 2.3464956283569336\n"
          ]
        }
      ]
    }
  ]
}